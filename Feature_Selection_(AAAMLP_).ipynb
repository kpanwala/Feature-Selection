{
  "nbformat": 4,
  "nbformat_minor": 0,
  "metadata": {
    "colab": {
      "name": "Feature Selection (AAAMLP )",
      "provenance": [],
      "collapsed_sections": [],
      "toc_visible": true
    },
    "kernelspec": {
      "display_name": "Python 3",
      "name": "python3"
    }
  },
  "cells": [
    {
      "cell_type": "code",
      "metadata": {
        "id": "ZWrrPciUfD88",
        "colab_type": "code",
        "colab": {
          "base_uri": "https://localhost:8080/",
          "height": 339
        },
        "outputId": "b93f55f1-461b-4b20-9d2b-f1765140b8c0"
      },
      "source": [
        "import pandas as pd\n",
        "import numpy as np\n",
        "\n",
        "from sklearn.datasets import fetch_california_housing\n",
        "\n",
        "# fetch a regression dataset\n",
        "data = fetch_california_housing()\n",
        "\n",
        "X = data[\"data\"]\n",
        "col_names = data[\"feature_names\"]\n",
        "y = data[\"target\"]\n",
        "# convert to pandas dataframe\n",
        "\n",
        "df = pd.DataFrame(X, columns=col_names)\n",
        "# introduce a highly correlated column\n",
        "df.loc[:, \"MedInc_Sqrt\"] = df.MedInc.apply(np.sqrt)\n",
        "# get correlation matrix (pearson)\n",
        "df.corr()"
      ],
      "execution_count": null,
      "outputs": [
        {
          "output_type": "stream",
          "text": [
            "Downloading Cal. housing from https://ndownloader.figshare.com/files/5976036 to /root/scikit_learn_data\n"
          ],
          "name": "stderr"
        },
        {
          "output_type": "execute_result",
          "data": {
            "text/html": [
              "<div>\n",
              "<style scoped>\n",
              "    .dataframe tbody tr th:only-of-type {\n",
              "        vertical-align: middle;\n",
              "    }\n",
              "\n",
              "    .dataframe tbody tr th {\n",
              "        vertical-align: top;\n",
              "    }\n",
              "\n",
              "    .dataframe thead th {\n",
              "        text-align: right;\n",
              "    }\n",
              "</style>\n",
              "<table border=\"1\" class=\"dataframe\">\n",
              "  <thead>\n",
              "    <tr style=\"text-align: right;\">\n",
              "      <th></th>\n",
              "      <th>MedInc</th>\n",
              "      <th>HouseAge</th>\n",
              "      <th>AveRooms</th>\n",
              "      <th>AveBedrms</th>\n",
              "      <th>Population</th>\n",
              "      <th>AveOccup</th>\n",
              "      <th>Latitude</th>\n",
              "      <th>Longitude</th>\n",
              "      <th>MedInc_Sqrt</th>\n",
              "    </tr>\n",
              "  </thead>\n",
              "  <tbody>\n",
              "    <tr>\n",
              "      <th>MedInc</th>\n",
              "      <td>1.000000</td>\n",
              "      <td>-0.119034</td>\n",
              "      <td>0.326895</td>\n",
              "      <td>-0.062040</td>\n",
              "      <td>0.004834</td>\n",
              "      <td>0.018766</td>\n",
              "      <td>-0.079809</td>\n",
              "      <td>-0.015176</td>\n",
              "      <td>0.984329</td>\n",
              "    </tr>\n",
              "    <tr>\n",
              "      <th>HouseAge</th>\n",
              "      <td>-0.119034</td>\n",
              "      <td>1.000000</td>\n",
              "      <td>-0.153277</td>\n",
              "      <td>-0.077747</td>\n",
              "      <td>-0.296244</td>\n",
              "      <td>0.013191</td>\n",
              "      <td>0.011173</td>\n",
              "      <td>-0.108197</td>\n",
              "      <td>-0.132797</td>\n",
              "    </tr>\n",
              "    <tr>\n",
              "      <th>AveRooms</th>\n",
              "      <td>0.326895</td>\n",
              "      <td>-0.153277</td>\n",
              "      <td>1.000000</td>\n",
              "      <td>0.847621</td>\n",
              "      <td>-0.072213</td>\n",
              "      <td>-0.004852</td>\n",
              "      <td>0.106389</td>\n",
              "      <td>-0.027540</td>\n",
              "      <td>0.326688</td>\n",
              "    </tr>\n",
              "    <tr>\n",
              "      <th>AveBedrms</th>\n",
              "      <td>-0.062040</td>\n",
              "      <td>-0.077747</td>\n",
              "      <td>0.847621</td>\n",
              "      <td>1.000000</td>\n",
              "      <td>-0.066197</td>\n",
              "      <td>-0.006181</td>\n",
              "      <td>0.069721</td>\n",
              "      <td>0.013344</td>\n",
              "      <td>-0.066910</td>\n",
              "    </tr>\n",
              "    <tr>\n",
              "      <th>Population</th>\n",
              "      <td>0.004834</td>\n",
              "      <td>-0.296244</td>\n",
              "      <td>-0.072213</td>\n",
              "      <td>-0.066197</td>\n",
              "      <td>1.000000</td>\n",
              "      <td>0.069863</td>\n",
              "      <td>-0.108785</td>\n",
              "      <td>0.099773</td>\n",
              "      <td>0.018415</td>\n",
              "    </tr>\n",
              "    <tr>\n",
              "      <th>AveOccup</th>\n",
              "      <td>0.018766</td>\n",
              "      <td>0.013191</td>\n",
              "      <td>-0.004852</td>\n",
              "      <td>-0.006181</td>\n",
              "      <td>0.069863</td>\n",
              "      <td>1.000000</td>\n",
              "      <td>0.002366</td>\n",
              "      <td>0.002476</td>\n",
              "      <td>0.015266</td>\n",
              "    </tr>\n",
              "    <tr>\n",
              "      <th>Latitude</th>\n",
              "      <td>-0.079809</td>\n",
              "      <td>0.011173</td>\n",
              "      <td>0.106389</td>\n",
              "      <td>0.069721</td>\n",
              "      <td>-0.108785</td>\n",
              "      <td>0.002366</td>\n",
              "      <td>1.000000</td>\n",
              "      <td>-0.924664</td>\n",
              "      <td>-0.084303</td>\n",
              "    </tr>\n",
              "    <tr>\n",
              "      <th>Longitude</th>\n",
              "      <td>-0.015176</td>\n",
              "      <td>-0.108197</td>\n",
              "      <td>-0.027540</td>\n",
              "      <td>0.013344</td>\n",
              "      <td>0.099773</td>\n",
              "      <td>0.002476</td>\n",
              "      <td>-0.924664</td>\n",
              "      <td>1.000000</td>\n",
              "      <td>-0.015569</td>\n",
              "    </tr>\n",
              "    <tr>\n",
              "      <th>MedInc_Sqrt</th>\n",
              "      <td>0.984329</td>\n",
              "      <td>-0.132797</td>\n",
              "      <td>0.326688</td>\n",
              "      <td>-0.066910</td>\n",
              "      <td>0.018415</td>\n",
              "      <td>0.015266</td>\n",
              "      <td>-0.084303</td>\n",
              "      <td>-0.015569</td>\n",
              "      <td>1.000000</td>\n",
              "    </tr>\n",
              "  </tbody>\n",
              "</table>\n",
              "</div>"
            ],
            "text/plain": [
              "               MedInc  HouseAge  AveRooms  ...  Latitude  Longitude  MedInc_Sqrt\n",
              "MedInc       1.000000 -0.119034  0.326895  ... -0.079809  -0.015176     0.984329\n",
              "HouseAge    -0.119034  1.000000 -0.153277  ...  0.011173  -0.108197    -0.132797\n",
              "AveRooms     0.326895 -0.153277  1.000000  ...  0.106389  -0.027540     0.326688\n",
              "AveBedrms   -0.062040 -0.077747  0.847621  ...  0.069721   0.013344    -0.066910\n",
              "Population   0.004834 -0.296244 -0.072213  ... -0.108785   0.099773     0.018415\n",
              "AveOccup     0.018766  0.013191 -0.004852  ...  0.002366   0.002476     0.015266\n",
              "Latitude    -0.079809  0.011173  0.106389  ...  1.000000  -0.924664    -0.084303\n",
              "Longitude   -0.015176 -0.108197 -0.027540  ... -0.924664   1.000000    -0.015569\n",
              "MedInc_Sqrt  0.984329 -0.132797  0.326688  ... -0.084303  -0.015569     1.000000\n",
              "\n",
              "[9 rows x 9 columns]"
            ]
          },
          "metadata": {
            "tags": []
          },
          "execution_count": 1
        }
      ]
    },
    {
      "cell_type": "code",
      "metadata": {
        "id": "cju78x-3fkYF",
        "colab_type": "code",
        "colab": {}
      },
      "source": [
        "from sklearn.feature_selection import VarianceThreshold\n",
        "\n",
        "var_thresh = VarianceThreshold(threshold=0.1)\n",
        "transformed_data = var_thresh.fit_transform(X)"
      ],
      "execution_count": null,
      "outputs": []
    },
    {
      "cell_type": "code",
      "metadata": {
        "id": "GIE7OaZwf0jt",
        "colab_type": "code",
        "colab": {
          "base_uri": "https://localhost:8080/",
          "height": 200
        },
        "outputId": "6b874b33-b29b-40e6-841c-86a36a6709f7"
      },
      "source": [
        "df.head()"
      ],
      "execution_count": null,
      "outputs": [
        {
          "output_type": "execute_result",
          "data": {
            "text/html": [
              "<div>\n",
              "<style scoped>\n",
              "    .dataframe tbody tr th:only-of-type {\n",
              "        vertical-align: middle;\n",
              "    }\n",
              "\n",
              "    .dataframe tbody tr th {\n",
              "        vertical-align: top;\n",
              "    }\n",
              "\n",
              "    .dataframe thead th {\n",
              "        text-align: right;\n",
              "    }\n",
              "</style>\n",
              "<table border=\"1\" class=\"dataframe\">\n",
              "  <thead>\n",
              "    <tr style=\"text-align: right;\">\n",
              "      <th></th>\n",
              "      <th>MedInc</th>\n",
              "      <th>HouseAge</th>\n",
              "      <th>AveRooms</th>\n",
              "      <th>AveBedrms</th>\n",
              "      <th>Population</th>\n",
              "      <th>AveOccup</th>\n",
              "      <th>Latitude</th>\n",
              "      <th>Longitude</th>\n",
              "      <th>MedInc_Sqrt</th>\n",
              "    </tr>\n",
              "  </thead>\n",
              "  <tbody>\n",
              "    <tr>\n",
              "      <th>0</th>\n",
              "      <td>8.3252</td>\n",
              "      <td>41.0</td>\n",
              "      <td>6.984127</td>\n",
              "      <td>1.023810</td>\n",
              "      <td>322.0</td>\n",
              "      <td>2.555556</td>\n",
              "      <td>37.88</td>\n",
              "      <td>-122.23</td>\n",
              "      <td>2.885342</td>\n",
              "    </tr>\n",
              "    <tr>\n",
              "      <th>1</th>\n",
              "      <td>8.3014</td>\n",
              "      <td>21.0</td>\n",
              "      <td>6.238137</td>\n",
              "      <td>0.971880</td>\n",
              "      <td>2401.0</td>\n",
              "      <td>2.109842</td>\n",
              "      <td>37.86</td>\n",
              "      <td>-122.22</td>\n",
              "      <td>2.881215</td>\n",
              "    </tr>\n",
              "    <tr>\n",
              "      <th>2</th>\n",
              "      <td>7.2574</td>\n",
              "      <td>52.0</td>\n",
              "      <td>8.288136</td>\n",
              "      <td>1.073446</td>\n",
              "      <td>496.0</td>\n",
              "      <td>2.802260</td>\n",
              "      <td>37.85</td>\n",
              "      <td>-122.24</td>\n",
              "      <td>2.693956</td>\n",
              "    </tr>\n",
              "    <tr>\n",
              "      <th>3</th>\n",
              "      <td>5.6431</td>\n",
              "      <td>52.0</td>\n",
              "      <td>5.817352</td>\n",
              "      <td>1.073059</td>\n",
              "      <td>558.0</td>\n",
              "      <td>2.547945</td>\n",
              "      <td>37.85</td>\n",
              "      <td>-122.25</td>\n",
              "      <td>2.375521</td>\n",
              "    </tr>\n",
              "    <tr>\n",
              "      <th>4</th>\n",
              "      <td>3.8462</td>\n",
              "      <td>52.0</td>\n",
              "      <td>6.281853</td>\n",
              "      <td>1.081081</td>\n",
              "      <td>565.0</td>\n",
              "      <td>2.181467</td>\n",
              "      <td>37.85</td>\n",
              "      <td>-122.25</td>\n",
              "      <td>1.961173</td>\n",
              "    </tr>\n",
              "  </tbody>\n",
              "</table>\n",
              "</div>"
            ],
            "text/plain": [
              "   MedInc  HouseAge  AveRooms  ...  Latitude  Longitude  MedInc_Sqrt\n",
              "0  8.3252      41.0  6.984127  ...     37.88    -122.23     2.885342\n",
              "1  8.3014      21.0  6.238137  ...     37.86    -122.22     2.881215\n",
              "2  7.2574      52.0  8.288136  ...     37.85    -122.24     2.693956\n",
              "3  5.6431      52.0  5.817352  ...     37.85    -122.25     2.375521\n",
              "4  3.8462      52.0  6.281853  ...     37.85    -122.25     1.961173\n",
              "\n",
              "[5 rows x 9 columns]"
            ]
          },
          "metadata": {
            "tags": []
          },
          "execution_count": 14
        }
      ]
    },
    {
      "cell_type": "code",
      "metadata": {
        "id": "Uw_AtPTtfrBb",
        "colab_type": "code",
        "colab": {
          "base_uri": "https://localhost:8080/",
          "height": 52
        },
        "outputId": "2657b96a-95b2-48db-85a6-13f0c165ab2d"
      },
      "source": [
        "transformed_data[0,:]"
      ],
      "execution_count": null,
      "outputs": [
        {
          "output_type": "execute_result",
          "data": {
            "text/plain": [
              "array([   8.3252    ,   41.        ,    6.98412698,    1.02380952,\n",
              "        322.        ,    2.55555556,   37.88      , -122.23      ])"
            ]
          },
          "metadata": {
            "tags": []
          },
          "execution_count": 18
        }
      ]
    },
    {
      "cell_type": "markdown",
      "metadata": {
        "id": "p-qIKghLjNkZ",
        "colab_type": "text"
      },
      "source": [
        "# **Select K-Best and select percentile**"
      ]
    },
    {
      "cell_type": "code",
      "metadata": {
        "id": "rqNEbLs_jbr7",
        "colab_type": "code",
        "colab": {}
      },
      "source": [
        "from sklearn.feature_selection import chi2\n",
        "from sklearn.feature_selection import f_classif\n",
        "from sklearn.feature_selection import f_regression\n",
        "from sklearn.feature_selection import mutual_info_classif\n",
        "from sklearn.feature_selection import mutual_info_regression\n",
        "from sklearn.feature_selection import SelectKBest\n",
        "from sklearn.feature_selection import SelectPercentile\n",
        "\n",
        "class UnivariateFeatureSelction:\n",
        "    def __init__(self, n_features, problem_type, scoring):\n",
        "        \"\"\"\n",
        "        Custom univariate feature selection wrapper on\n",
        "        different univariate feature selection models from\n",
        "        scikit-learn.\n",
        "        :param n_features: SelectPercentile if float else SelectKBest\n",
        "        :param problem_type: classification or regression\n",
        "        :param scoring: scoring function, string\n",
        "        \"\"\"\n",
        "        \n",
        "        # for a given problem type, there are only\n",
        "        # a few valid scoring methods\n",
        "        # you can extend this with your own custom\n",
        "        # methods if you wish\n",
        "        if problem_type == \"classification\":\n",
        "            valid_scoring = {\n",
        "            \"f_classif\": f_classif,\n",
        "            \"chi2\": chi2,\n",
        "            \"mutual_info_classif\": mutual_info_classif\n",
        "            }\n",
        "        else:\n",
        "            valid_scoring = {\n",
        "            \"f_regression\": f_regression,\n",
        "            \"mutual_info_regression\": mutual_info_regression\n",
        "            }\n",
        "\n",
        "        # raise exception if we do not have a valid scoring method\n",
        "        if scoring not in valid_scoring:\n",
        "            raise Exception(\"Invalid scoring function\")\n",
        "\n",
        "        # if n_features is int, we use selectkbest\n",
        "        # if n_features is float, we use selectpercentile\n",
        "        # please note that it is int in both cases in sklearn\n",
        "        if isinstance(n_features, int):\n",
        "            self.selection = SelectKBest(\n",
        "            valid_scoring[scoring],\n",
        "            k=n_features\n",
        "            )\n",
        "        elif isinstance(n_features, float):\n",
        "            self.selection = SelectPercentile(\n",
        "            valid_scoring[scoring],\n",
        "            percentile=int(n_features * 100)\n",
        "            )\n",
        "        else:\n",
        "            raise Exception(\"Invalid type of feature\")\n",
        "\n",
        "    # same fit function\n",
        "    def fit(self, X, y):\n",
        "        return self.selection.fit(X, y)\n",
        "\n",
        "    # same transform function\n",
        "    def transform(self, X):\n",
        "        return self.selection.transform(X)\n",
        "\n",
        "    # same fit_transform function\n",
        "    def fit_transform(self, X, y):\n",
        "        return self.selection.fit_transform(X, y)\n"
      ],
      "execution_count": null,
      "outputs": []
    },
    {
      "cell_type": "code",
      "metadata": {
        "id": "FLS2vQ0ukqns",
        "colab_type": "code",
        "colab": {}
      },
      "source": [
        "ufs = UnivariateFeatureSelction(\n",
        " n_features=X.shape[1]-3,\n",
        " problem_type=\"regression\",\n",
        " scoring=\"f_regression\"\n",
        ")\n",
        "\n",
        "ufs.fit(X, y)\n",
        "\n",
        "X_transformed = ufs.transform(X)"
      ],
      "execution_count": null,
      "outputs": []
    },
    {
      "cell_type": "code",
      "metadata": {
        "id": "NOM5WyL5k4Jf",
        "colab_type": "code",
        "colab": {
          "base_uri": "https://localhost:8080/",
          "height": 35
        },
        "outputId": "74a5290f-f815-4d5c-93bc-b0e54986909b"
      },
      "source": [
        "X_transformed[0,:]"
      ],
      "execution_count": null,
      "outputs": [
        {
          "output_type": "execute_result",
          "data": {
            "text/plain": [
              "array([ 8.3252    , 41.        ,  6.98412698,  1.02380952, 37.88      ])"
            ]
          },
          "metadata": {
            "tags": []
          },
          "execution_count": 8
        }
      ]
    },
    {
      "cell_type": "markdown",
      "metadata": {
        "id": "ZicHK-TkobaG",
        "colab_type": "text"
      },
      "source": [
        "# **Greedy Feature Selection**"
      ]
    },
    {
      "cell_type": "code",
      "metadata": {
        "id": "SmYmFTP7og9I",
        "colab_type": "code",
        "colab": {}
      },
      "source": [
        "import pandas as pd\n",
        "from sklearn import linear_model\n",
        "from sklearn import metrics\n",
        "from sklearn.datasets import make_classification\n",
        "\n",
        "class GreedyFeatureSelection:\n",
        "    \"\"\"\n",
        "    A simple and custom class for greedy feature selection.\n",
        "    You will need to modify it quite a bit to make it suitable\n",
        "    for your dataset.\n",
        "    \"\"\"\n",
        "    def evaluate_score(self, X, y):\n",
        "        \"\"\"\n",
        "        This function evaluates model on data and returns\n",
        "        Area Under ROC Curve (AUC)\n",
        "        NOTE: We fit the data and calculate AUC on same data.\n",
        "        WE ARE OVERFITTING HERE.\n",
        "        But this is also a way to achieve greedy selection.\n",
        "        k-fold will take k times longer.\n",
        "        If you want to implement it in really correct way,\n",
        "        calculate OOF AUC and return mean AUC over k folds.\n",
        "        This requires only a few lines of change and has been\n",
        "        shown a few times in this book.\n",
        "        :param X: training data\n",
        "        :param y: targets\n",
        "        :return: overfitted area under the roc curve\n",
        "        \"\"\"\n",
        "        # fit the logistic regression model,\n",
        "        # and calculate AUC on same data\n",
        "        # again: BEWARE\n",
        "        # you can choose any model that suits your data\n",
        "        model = linear_model.LogisticRegression()\n",
        "        model.fit(X, y)\n",
        "\n",
        "        predictions = model.predict_proba(X)[:, 1]\n",
        "        auc = metrics.roc_auc_score(y, predictions)\n",
        "\n",
        "        return auc\n",
        "\n",
        "    def _feature_selection(self, X, y):\n",
        "        \"\"\"\n",
        "        This function does the actual greedy selection\n",
        "        :param X: data, numpy array\n",
        "        :param y: targets, numpy array\n",
        "        :return: (best scores, best features)\n",
        "        \"\"\"\n",
        "        # initialize good features list\n",
        "        # and best scores to keep track of both\n",
        "        good_features = []\n",
        "        best_scores = []\n",
        "\n",
        "        # calculate the number of features\n",
        "        num_features = X.shape[1]\n",
        "\n",
        "        # infinite loop\n",
        "        while True:\n",
        "            # initialize best feature and score of this loop\n",
        "            this_feature = None\n",
        "            best_score = 0\n",
        "            \n",
        "            # loop over all features\n",
        "            for feature in range(num_features):\n",
        "                # if feature is already in good features,\n",
        "                # skip this for loop\n",
        "                if feature in good_features:\n",
        "                    continue\n",
        "                # selected features are all good features till now\n",
        "                # and current feature\n",
        "                selected_features = good_features + [feature]\n",
        "                # remove all other features from data\n",
        "                xtrain = X[:, selected_features]\n",
        "                # calculate the score, in our case, AUC\n",
        "                score = self.evaluate_score(xtrain, y)\n",
        "                # if score is greater than the best score\n",
        "                # of this loop, change best score and best feature\n",
        "                if score > best_score:\n",
        "                    this_feature = feature\n",
        "                    best_score = score\n",
        "\n",
        "            # if we have selected a feature, add it\n",
        "            # to the good feature list and update best scores list\n",
        "            if this_feature != None:\n",
        "                good_features.append(this_feature)\n",
        "                best_scores.append(best_score)\n",
        "\n",
        "            # if we didnt improve during the last two rounds,\n",
        "            # exit the while loop\n",
        "            if len(best_scores) > 2:\n",
        "                if best_scores[-1] < best_scores[-2]:\n",
        "                    break\n",
        "\n",
        "        # return best scores and good features\n",
        "        # why do we remove the last data point?\n",
        "        return best_scores[:-1], good_features[:-1]\n",
        "\n",
        "    def __call__(self, X, y):\n",
        "        \"\"\"\n",
        "        Call function will call the class on a set of arguments\n",
        "        \"\"\"\n",
        "        # select features, return scores and selected indices\n",
        "        scores, features = self._feature_selection(X, y)\n",
        "        # transform data with selected features\n",
        "        return X[:, features], scores"
      ],
      "execution_count": null,
      "outputs": []
    },
    {
      "cell_type": "code",
      "metadata": {
        "id": "be0tsHmtoqqp",
        "colab_type": "code",
        "colab": {
          "base_uri": "https://localhost:8080/",
          "height": 461
        },
        "outputId": "71809c2b-3b77-4b1d-f562-718bc4c6bbea"
      },
      "source": [
        "# generate binary classification data\n",
        "X, y = make_classification(n_samples=1000, n_features=100)\n",
        "print(X[0,:],y[0])"
      ],
      "execution_count": null,
      "outputs": [
        {
          "output_type": "stream",
          "text": [
            "[ 1.53479760e-02 -1.19909265e+00 -9.09681553e-01  2.13261366e+00\n",
            " -1.68707919e+00  5.32921279e-02 -3.51710261e-01 -9.60139610e-01\n",
            "  1.46161172e+00 -1.77634265e+00 -5.94704615e-01  9.64702218e-01\n",
            " -1.02668670e+00  1.73226069e+00 -3.15540874e-01  9.40121708e-01\n",
            " -4.39332663e-01 -2.04273432e+00  5.98435365e-01  2.57030519e-01\n",
            " -4.82338940e-02  8.29484343e-01 -1.28051502e+00 -1.37759225e+00\n",
            " -2.20971484e-01  5.46477664e-01  1.18888915e-01 -1.43823632e-01\n",
            " -1.29710638e+00 -5.18765268e-01  3.22957925e-01 -4.02554124e-02\n",
            "  1.21642391e+00 -7.70240457e-01 -3.67132646e-01 -1.00872122e+00\n",
            "  1.14103271e+00  7.56997959e-01 -2.10151892e-01  1.30467013e-01\n",
            "  7.09791819e-01 -2.53405780e+00 -1.61314451e+00  5.85807458e-01\n",
            " -8.41441251e-01 -8.56608572e-02  7.31229647e-01  1.66420759e+00\n",
            " -3.36637940e-01  1.96978723e-01  7.37041470e-01 -3.43494189e-01\n",
            " -1.83811248e-01  1.79179793e-01 -3.27011700e-01  1.18739807e+00\n",
            "  3.79889060e-01  1.34410405e+00  2.25325809e-01 -3.52210492e-01\n",
            " -1.02433717e+00 -4.18736754e-01  3.58759076e-01  2.44274612e-01\n",
            " -6.34618342e-01 -2.91212551e+00 -6.22100400e-01  1.38968582e+00\n",
            " -2.26626919e+00 -2.45228696e-01 -3.81014355e+00 -1.06847525e+00\n",
            "  2.54112032e-01 -7.74711231e-01  1.09732805e+00  5.08753350e-01\n",
            " -1.65775074e+00  1.87719196e+00  6.62121907e-01  1.06355725e+00\n",
            " -1.80632209e-03 -4.91707245e-01 -1.41795524e-01  1.34560719e+00\n",
            "  8.84104278e-01  4.52650907e-01 -1.68608969e+00 -1.00416763e+00\n",
            "  9.36339366e-01  7.89159234e-01  3.60213616e-01 -6.50429932e-01\n",
            "  2.89565300e-01  4.87443873e-01 -3.52060121e-02 -1.08471318e-01\n",
            "  2.49134482e-01 -1.14963384e+00  1.27951190e+00  5.75544426e-01] 0\n"
          ],
          "name": "stdout"
        }
      ]
    },
    {
      "cell_type": "code",
      "metadata": {
        "id": "Fwkk8sC4pjMI",
        "colab_type": "code",
        "colab": {}
      },
      "source": [
        "# transform data by greedy feature selection\n",
        "X_transformed, scores = GreedyFeatureSelection()(X, y)"
      ],
      "execution_count": null,
      "outputs": []
    },
    {
      "cell_type": "code",
      "metadata": {
        "id": "sFzNdU90qFmz",
        "colab_type": "code",
        "colab": {
          "base_uri": "https://localhost:8080/",
          "height": 35
        },
        "outputId": "7033e9d2-df11-4b6a-8606-3bcbec5a422d"
      },
      "source": [
        "len(X_transformed[0,:])"
      ],
      "execution_count": null,
      "outputs": [
        {
          "output_type": "execute_result",
          "data": {
            "text/plain": [
              "61"
            ]
          },
          "metadata": {
            "tags": []
          },
          "execution_count": 19
        }
      ]
    },
    {
      "cell_type": "markdown",
      "metadata": {
        "id": "bD0UIp9wrITV",
        "colab_type": "text"
      },
      "source": [
        "# **Recursive feature elimination**"
      ]
    },
    {
      "cell_type": "code",
      "metadata": {
        "id": "SGEq0TTBrMA1",
        "colab_type": "code",
        "colab": {}
      },
      "source": [
        "import pandas as pd\n",
        "from sklearn.feature_selection import RFE\n",
        "from sklearn.linear_model import LinearRegression\n",
        "from sklearn.datasets import fetch_california_housing\n",
        "\n",
        "# fetch a regression dataset\n",
        "data = fetch_california_housing()\n",
        "\n",
        "X = data[\"data\"]\n",
        "col_names = data[\"feature_names\"]\n",
        "y = data[\"target\"]\n",
        "\n",
        "# initialize the model\n",
        "model = LinearRegression()\n",
        "\n",
        "# initialize RFE\n",
        "rfe = RFE(\n",
        " estimator=model,\n",
        " n_features_to_select=3\n",
        ")\n",
        "\n",
        "# fit RFE\n",
        "rfe.fit(X, y)\n",
        "\n",
        "# get the transformed data with\n",
        "# selected columns\n",
        "X_transformed = rfe.transform(X)"
      ],
      "execution_count": null,
      "outputs": []
    },
    {
      "cell_type": "code",
      "metadata": {
        "id": "Qtuf6Pbxrak_",
        "colab_type": "code",
        "colab": {
          "base_uri": "https://localhost:8080/",
          "height": 35
        },
        "outputId": "48d9d705-0e79-470e-a175-1b8601508f03"
      },
      "source": [
        "X_transformed[0,:]"
      ],
      "execution_count": null,
      "outputs": [
        {
          "output_type": "execute_result",
          "data": {
            "text/plain": [
              "array([   8.3252,   37.88  , -122.23  ])"
            ]
          },
          "metadata": {
            "tags": []
          },
          "execution_count": 25
        }
      ]
    }
  ]
}